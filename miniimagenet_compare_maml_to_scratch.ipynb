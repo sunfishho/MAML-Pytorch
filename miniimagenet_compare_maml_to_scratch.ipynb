{
 "cells": [
  {
   "cell_type": "code",
   "execution_count": 77,
   "id": "2844419d-f62a-40a5-a2fb-4fe50846fb4c",
   "metadata": {},
   "outputs": [],
   "source": [
    "scratch_accs = [0.21958333, 0.2325    , 0.24166667, 0.24958333, 0.25458333,\n",
    "       0.25625   , 0.25625   , 0.26041667, 0.26041667, 0.26291667,\n",
    "       0.265     , 0.26458333, 0.26375   , 0.26458333, 0.26458333,\n",
    "       0.265     , 0.26458333, 0.26708333, 0.26833333, 0.26833333,\n",
    "       0.26833333, 0.26708333, 0.26666667, 0.26666667, 0.26666667,\n",
    "       0.2675    , 0.26916667, 0.2675    , 0.26791667, 0.2675    ,\n",
    "       0.26833333, 0.26875   , 0.26791667, 0.2675    , 0.2675    ,\n",
    "       0.26708333, 0.26708333, 0.26708333, 0.26666667, 0.26666667,\n",
    "       0.26625   , 0.26625   , 0.26583333, 0.26583333, 0.26625   ,\n",
    "       0.26625   , 0.26666667, 0.26625   , 0.26625   , 0.26583333,\n",
    "       0.26583333, 0.26583333, 0.26583333, 0.26583333, 0.26666667,\n",
    "       0.26666667, 0.26666667, 0.26708333, 0.26666667, 0.26666667,\n",
    "       0.26708333, 0.2675    , 0.2675    , 0.2675    , 0.2675    ,\n",
    "       0.26708333, 0.26666667, 0.26666667, 0.26666667, 0.26708333,\n",
    "       0.26708333, 0.26708333, 0.26708333, 0.2675    , 0.2675    ,\n",
    "       0.2675    , 0.2675    , 0.2675    , 0.2675    , 0.2675    ,\n",
    "       0.2675    , 0.26708333, 0.26708333, 0.26708333, 0.26708333,\n",
    "       0.26708333, 0.26708333, 0.2675    , 0.2675    , 0.2675    ,\n",
    "       0.2675    , 0.26708333, 0.26708333, 0.26708333, 0.26708333,\n",
    "       0.26708333, 0.26708333, 0.26708333, 0.26708333, 0.26708333]\n",
    "\n"
   ]
  },
  {
   "cell_type": "code",
   "execution_count": 78,
   "id": "c43994a0-0804-4109-9c02-f442746b6d54",
   "metadata": {},
   "outputs": [],
   "source": [
    "metalearning_accs = [0.43791667, 0.44125   , 0.445     , 0.44666667, 0.445     ,\n",
    "       0.44083333, 0.44083333, 0.4375    , 0.43541667, 0.43375   ,\n",
    "       0.43333333, 0.43208333, 0.43125   , 0.43166667, 0.4325    ,\n",
    "       0.43083333, 0.43      , 0.43041667, 0.43      , 0.43      ,\n",
    "       0.43125   , 0.43      , 0.42875   , 0.42875   , 0.42833333,\n",
    "       0.42791667, 0.42708333, 0.4275    , 0.4275    , 0.42708333,\n",
    "       0.42666667, 0.42583333, 0.42583333, 0.42583333, 0.42583333,\n",
    "       0.42625   , 0.42625   , 0.42625   , 0.42541667, 0.425     ,\n",
    "       0.42458333, 0.42458333, 0.425     , 0.425     , 0.425     ,\n",
    "       0.425     , 0.425     , 0.425     , 0.425     , 0.42458333,\n",
    "       0.42458333, 0.42458333, 0.42458333, 0.42458333, 0.42458333,\n",
    "       0.42458333, 0.42458333, 0.42458333, 0.42458333, 0.42458333,\n",
    "       0.42458333, 0.42458333, 0.42458333, 0.42458333, 0.42458333,\n",
    "       0.42458333, 0.42458333, 0.42458333, 0.42458333, 0.42458333,\n",
    "       0.42458333, 0.42458333, 0.42458333, 0.42458333, 0.42458333,\n",
    "       0.42416667, 0.42416667, 0.42416667, 0.42416667, 0.42416667,\n",
    "       0.42416667, 0.42416667, 0.42416667, 0.42416667, 0.42416667,\n",
    "       0.42416667, 0.42416667, 0.42416667, 0.42416667, 0.42416667,\n",
    "       0.42416667, 0.42416667, 0.42416667, 0.42416667, 0.42416667,\n",
    "       0.42416667, 0.42416667, 0.42416667, 0.42416667, 0.42416667]"
   ]
  },
  {
   "cell_type": "code",
   "execution_count": 79,
   "id": "1e51ccde",
   "metadata": {},
   "outputs": [
    {
     "data": {
      "image/png": "[encoded data removed]",
      "text/plain": [
       "<Figure size 640x480 with 1 Axes>"
      ]
     },
     "metadata": {},
     "output_type": "display_data"
    }
   ],
   "source": [
    "y = np.array(scratch_accs)\n",
    "x = np.array(list(range(len(scratch_accs))))\n",
    "\n",
    "plt.plot(x, y)\n",
    "plt.plot(np.array(list(range(len(metalearning_accs)))), metalearning_accs)\n",
    "plt.xlabel('Iteration Number')\n",
    "plt.ylabel('Test accuracy')\n",
    "plt.title('Test accuracy by iteration number for MiniImageNet')\n",
    "plt.show()"
   ]
  },
  {
   "cell_type": "code",
   "execution_count": 24,
   "id": "4bd1bcd5-400b-4d96-ae3c-6d3c947bf30b",
   "metadata": {},
   "outputs": [
    {
     "name": "stderr",
     "output_type": "stream",
     "text": [
      "\u001b[33;21m2023-07-31 14:52:43,477 - butterfly_op.py[line:23] - WARNING: Import universal_cuda fail\u001b[0m\n",
      "\u001b[33;21m2023-07-31 14:52:43,479 - butterfly_op.py[line:27] - WARNING: Import hadamard_cuda fail\u001b[0m\n",
      "\u001b[33;21m2023-07-31 14:52:43,482 - matrix_parametrization.py[line:23] - WARNING: Cannot import matrix_parametrization_cuda. Decomposers can only work on CPU mode\u001b[0m\n"
     ]
    }
   ],
   "source": [
    "import torch\n",
    "import torchvision\n",
    "import numpy as np\n",
    "import torch.nn as nn\n",
    "import torch.nn.functional as F\n",
    "import torchonn as onn\n",
    "from torchonn.models import ONNBaseModel\n",
    "import torch.optim as optim\n",
    "import torchvision.transforms as transforms\n",
    "import scipy.stats as stats\n",
    "from copy import deepcopy\n",
    "from PIL import Image, ImageFilter\n",
    "import os"
   ]
  },
  {
   "cell_type": "code",
   "execution_count": 40,
   "id": "b19d90dd-4064-44eb-9026-bc5ac33b2259",
   "metadata": {},
   "outputs": [],
   "source": [
    "test_split = np.load('test_split_all.npy')"
   ]
  },
  {
   "cell_type": "code",
   "execution_count": 42,
   "id": "9cfb0e5c-d476-4888-9e98-1d0000261da0",
   "metadata": {},
   "outputs": [
    {
     "data": {
      "text/plain": [
       "(423, 20, 1, 28, 28)"
      ]
     },
     "execution_count": 42,
     "metadata": {},
     "output_type": "execute_result"
    }
   ],
   "source": [
    "test_split.shape"
   ]
  },
  {
   "cell_type": "code",
   "execution_count": 44,
   "id": "69b2298d-11b4-4b83-85b8-e3c17e7c060b",
   "metadata": {},
   "outputs": [],
   "source": [
    "random_integers = np.random.randint(0, 423, size=5)"
   ]
  },
  {
   "cell_type": "code",
   "execution_count": 59,
   "id": "9fe14807-df76-4081-a2c7-f028463d498c",
   "metadata": {},
   "outputs": [],
   "source": []
  },
  {
   "cell_type": "code",
   "execution_count": 60,
   "id": "4e93c8bb-c047-43ac-a24f-ca5cbf8246ca",
   "metadata": {},
   "outputs": [
    {
     "data": {
      "text/plain": [
       "Meta(\n",
       "  (net): Learner(\n",
       "    conv2d:(ch_in:1, ch_out:64, k:3x3, stride:2, padding:0)\n",
       "    relu:(True,)\n",
       "    bn:(64,)\n",
       "    conv2d:(ch_in:64, ch_out:64, k:3x3, stride:2, padding:0)\n",
       "    relu:(True,)\n",
       "    bn:(64,)\n",
       "    conv2d:(ch_in:64, ch_out:64, k:3x3, stride:2, padding:0)\n",
       "    relu:(True,)\n",
       "    bn:(64,)\n",
       "    conv2d:(ch_in:64, ch_out:64, k:2x2, stride:1, padding:0)\n",
       "    relu:(True,)\n",
       "    bn:(64,)\n",
       "    flatten:()\n",
       "    linear:(in:64, out:5)\n",
       "    \n",
       "    (vars): ParameterList(\n",
       "        (0): Parameter containing: [torch.float32 of size 64x1x3x3]\n",
       "        (1): Parameter containing: [torch.float32 of size 64]\n",
       "        (2): Parameter containing: [torch.float32 of size 64]\n",
       "        (3): Parameter containing: [torch.float32 of size 64]\n",
       "        (4): Parameter containing: [torch.float32 of size 64x64x3x3]\n",
       "        (5): Parameter containing: [torch.float32 of size 64]\n",
       "        (6): Parameter containing: [torch.float32 of size 64]\n",
       "        (7): Parameter containing: [torch.float32 of size 64]\n",
       "        (8): Parameter containing: [torch.float32 of size 64x64x3x3]\n",
       "        (9): Parameter containing: [torch.float32 of size 64]\n",
       "        (10): Parameter containing: [torch.float32 of size 64]\n",
       "        (11): Parameter containing: [torch.float32 of size 64]\n",
       "        (12): Parameter containing: [torch.float32 of size 64x64x2x2]\n",
       "        (13): Parameter containing: [torch.float32 of size 64]\n",
       "        (14): Parameter containing: [torch.float32 of size 64]\n",
       "        (15): Parameter containing: [torch.float32 of size 64]\n",
       "        (16): Parameter containing: [torch.float32 of size 5x64]\n",
       "        (17): Parameter containing: [torch.float32 of size 5]\n",
       "    )\n",
       "    (vars_bn): ParameterList(\n",
       "        (0): Parameter containing: [torch.float32 of size 64]\n",
       "        (1): Parameter containing: [torch.float32 of size 64]\n",
       "        (2): Parameter containing: [torch.float32 of size 64]\n",
       "        (3): Parameter containing: [torch.float32 of size 64]\n",
       "        (4): Parameter containing: [torch.float32 of size 64]\n",
       "        (5): Parameter containing: [torch.float32 of size 64]\n",
       "        (6): Parameter containing: [torch.float32 of size 64]\n",
       "        (7): Parameter containing: [torch.float32 of size 64]\n",
       "    )\n",
       "  )\n",
       ")"
      ]
     },
     "execution_count": 60,
     "metadata": {},
     "output_type": "execute_result"
    }
   ],
   "source": [
    "maml.finetunning("
   ]
  },
  {
   "cell_type": "code",
   "execution_count": null,
   "id": "6bc4db95-de40-4063-9b27-13ca68e38030",
   "metadata": {},
   "outputs": [],
   "source": []
  }
 ],
 "metadata": {
  "kernelspec": {
   "display_name": "Python 3 (ipykernel)",
   "language": "python",
   "name": "python3"
  },
  "language_info": {
   "codemirror_mode": {
    "name": "ipython",
    "version": 3
   },
   "file_extension": ".py",
   "mimetype": "text/x-python",
   "name": "python",
   "nbconvert_exporter": "python",
   "pygments_lexer": "ipython3",
   "version": "3.10.6"
  }
 },
 "nbformat": 4,
 "nbformat_minor": 5
}
