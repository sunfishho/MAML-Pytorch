{
 "cells": [
  {
   "cell_type": "code",
   "execution_count": 7,
   "id": "ffd1b84b-37ae-469d-9a60-5a52ca9e8dd0",
   "metadata": {},
   "outputs": [],
   "source": [
    "import numpy as np"
   ]
  },
  {
   "cell_type": "code",
   "execution_count": 17,
   "id": "2844419d-f62a-40a5-a2fb-4fe50846fb4c",
   "metadata": {},
   "outputs": [],
   "source": [
    "scratch_accs = [0.6203125 , 0.72734375, 0.73984375, 0.73984375, 0.746875  ,\n",
    "       0.74921875, 0.746875  , 0.7484375 , 0.74140625, 0.7484375 ,\n",
    "       0.7515625 , 0.75      , 0.75078125, 0.7546875 , 0.75625   ,\n",
    "       0.75390625, 0.75625   , 0.7578125 , 0.759375  , 0.7609375 ,\n",
    "       0.7609375 , 0.76171875, 0.7609375 , 0.7609375 , 0.76171875,\n",
    "       0.76328125, 0.7625    , 0.76171875, 0.7640625 , 0.76484375,\n",
    "       0.76640625, 0.7671875 , 0.76640625, 0.76640625, 0.76640625,\n",
    "       0.7671875 , 0.7671875 , 0.7671875 , 0.7671875 , 0.76796875,\n",
    "       0.76875   , 0.7703125 , 0.7703125 , 0.7703125 , 0.7703125 ,\n",
    "       0.7703125 , 0.77109375, 0.77109375, 0.771875  , 0.771875  ,\n",
    "       0.771875  , 0.771875  , 0.771875  , 0.771875  , 0.771875  ,\n",
    "       0.77265625, 0.77265625, 0.77265625, 0.77265625, 0.77265625,\n",
    "       0.77265625, 0.77265625, 0.77265625, 0.77265625, 0.77265625,\n",
    "       0.77265625, 0.77265625, 0.77265625, 0.771875  , 0.771875  ,\n",
    "       0.771875  , 0.771875  , 0.771875  , 0.771875  , 0.771875  ,\n",
    "       0.771875  , 0.771875  , 0.771875  , 0.77265625, 0.77265625,\n",
    "       0.77265625, 0.77265625, 0.77265625, 0.77265625, 0.77265625,\n",
    "       0.77265625, 0.77265625, 0.77265625, 0.77265625, 0.77265625,\n",
    "       0.77265625, 0.77265625, 0.77265625, 0.77265625, 0.77265625,\n",
    "       0.77265625, 0.77265625, 0.77265625, 0.7734375 , 0.7734375 ]"
   ]
  },
  {
   "cell_type": "code",
   "execution_count": 18,
   "id": "c43994a0-0804-4109-9c02-f442746b6d54",
   "metadata": {},
   "outputs": [],
   "source": [
    "metalearning_accs = [0.94453125, 0.96875   , 0.97421875, 0.96796875, 0.9671875 ,\n",
    "       0.965625  , 0.96328125, 0.96171875, 0.95625   , 0.95546875,\n",
    "       0.953125  , 0.9484375 , 0.94765625, 0.946875  , 0.946875  ,\n",
    "       0.946875  , 0.94765625, 0.946875  , 0.94609375, 0.946875  ,\n",
    "       0.94765625, 0.9484375 , 0.9484375 , 0.9484375 , 0.94765625,\n",
    "       0.94765625, 0.94765625, 0.94765625, 0.946875  , 0.94765625,\n",
    "       0.94765625, 0.9484375 , 0.9484375 , 0.94765625, 0.94765625,\n",
    "       0.94765625, 0.94765625, 0.94765625, 0.94765625, 0.94765625,\n",
    "       0.94765625, 0.94765625, 0.94765625, 0.94765625, 0.94765625,\n",
    "       0.94765625, 0.94765625, 0.94765625, 0.94765625, 0.94765625,\n",
    "       0.94765625, 0.94765625, 0.94765625, 0.94765625, 0.94765625,\n",
    "       0.94765625, 0.94765625, 0.94765625, 0.94765625, 0.94765625,\n",
    "       0.94765625, 0.94765625, 0.94765625, 0.94765625, 0.94765625,\n",
    "       0.94765625, 0.94765625, 0.94765625, 0.94765625, 0.94765625,\n",
    "       0.94765625, 0.94765625, 0.94765625, 0.94765625, 0.94765625,\n",
    "       0.94765625, 0.94765625, 0.94765625, 0.94765625, 0.94765625,\n",
    "       0.94765625, 0.94765625, 0.94765625, 0.94765625, 0.94765625,\n",
    "       0.94765625, 0.94765625, 0.94765625, 0.94765625, 0.94765625,\n",
    "       0.94765625, 0.94765625, 0.94765625, 0.94765625, 0.94765625,\n",
    "       0.94765625, 0.94765625, 0.94765625, 0.94765625, 0.94765625]"
   ]
  },
  {
   "cell_type": "code",
   "execution_count": 19,
   "id": "1e51ccde",
   "metadata": {},
   "outputs": [
    {
     "data": {
      "image/png": "[encoded data removed]",
      "text/plain": [
       "<Figure size 640x480 with 1 Axes>"
      ]
     },
     "metadata": {},
     "output_type": "display_data"
    }
   ],
   "source": [
    "y = np.array(scratch_accs)\n",
    "x = np.array(list(range(len(scratch_accs))))\n",
    "\n",
    "plt.plot(x, y)\n",
    "plt.plot(np.array(list(range(len(metalearning_accs)))), metalearning_accs)\n",
    "plt.xlabel('Iteration Number')\n",
    "plt.ylabel('Test accuracy')\n",
    "plt.title('Test accuracy by iteration number for Omniglot')\n",
    "plt.show()"
   ]
  },
  {
   "cell_type": "code",
   "execution_count": 5,
   "id": "4bd1bcd5-400b-4d96-ae3c-6d3c947bf30b",
   "metadata": {},
   "outputs": [
    {
     "name": "stderr",
     "output_type": "stream",
     "text": [
      "\u001b[33;21m2023-08-01 17:04:52,606 - butterfly_op.py[line:23] - WARNING: Import universal_cuda fail\u001b[0m\n",
      "\u001b[33;21m2023-08-01 17:04:52,736 - butterfly_op.py[line:27] - WARNING: Import hadamard_cuda fail\u001b[0m\n",
      "\u001b[33;21m2023-08-01 17:04:52,741 - matrix_parametrization.py[line:23] - WARNING: Cannot import matrix_parametrization_cuda. Decomposers can only work on CPU mode\u001b[0m\n"
     ]
    }
   ],
   "source": [
    "import torch\n",
    "import torchvision\n",
    "import numpy as np\n",
    "import torch.nn as nn\n",
    "import torch.nn.functional as F\n",
    "import torchonn as onn\n",
    "from torchonn.models import ONNBaseModel\n",
    "import torch.optim as optim\n",
    "import torchvision.transforms as transforms\n",
    "import scipy.stats as stats\n",
    "from copy import deepcopy\n",
    "from PIL import Image, ImageFilter\n",
    "import os"
   ]
  },
  {
   "cell_type": "code",
   "execution_count": 40,
   "id": "b19d90dd-4064-44eb-9026-bc5ac33b2259",
   "metadata": {},
   "outputs": [],
   "source": [
    "test_split = np.load('test_split_all.npy')"
   ]
  },
  {
   "cell_type": "code",
   "execution_count": 42,
   "id": "9cfb0e5c-d476-4888-9e98-1d0000261da0",
   "metadata": {},
   "outputs": [
    {
     "data": {
      "text/plain": [
       "(423, 20, 1, 28, 28)"
      ]
     },
     "execution_count": 42,
     "metadata": {},
     "output_type": "execute_result"
    }
   ],
   "source": [
    "test_split.shape"
   ]
  },
  {
   "cell_type": "code",
   "execution_count": 44,
   "id": "69b2298d-11b4-4b83-85b8-e3c17e7c060b",
   "metadata": {},
   "outputs": [],
   "source": [
    "random_integers = np.random.randint(0, 423, size=5)"
   ]
  },
  {
   "cell_type": "code",
   "execution_count": 59,
   "id": "9fe14807-df76-4081-a2c7-f028463d498c",
   "metadata": {},
   "outputs": [],
   "source": []
  },
  {
   "cell_type": "code",
   "execution_count": 60,
   "id": "4e93c8bb-c047-43ac-a24f-ca5cbf8246ca",
   "metadata": {},
   "outputs": [
    {
     "data": {
      "text/plain": [
       "Meta(\n",
       "  (net): Learner(\n",
       "    conv2d:(ch_in:1, ch_out:64, k:3x3, stride:2, padding:0)\n",
       "    relu:(True,)\n",
       "    bn:(64,)\n",
       "    conv2d:(ch_in:64, ch_out:64, k:3x3, stride:2, padding:0)\n",
       "    relu:(True,)\n",
       "    bn:(64,)\n",
       "    conv2d:(ch_in:64, ch_out:64, k:3x3, stride:2, padding:0)\n",
       "    relu:(True,)\n",
       "    bn:(64,)\n",
       "    conv2d:(ch_in:64, ch_out:64, k:2x2, stride:1, padding:0)\n",
       "    relu:(True,)\n",
       "    bn:(64,)\n",
       "    flatten:()\n",
       "    linear:(in:64, out:5)\n",
       "    \n",
       "    (vars): ParameterList(\n",
       "        (0): Parameter containing: [torch.float32 of size 64x1x3x3]\n",
       "        (1): Parameter containing: [torch.float32 of size 64]\n",
       "        (2): Parameter containing: [torch.float32 of size 64]\n",
       "        (3): Parameter containing: [torch.float32 of size 64]\n",
       "        (4): Parameter containing: [torch.float32 of size 64x64x3x3]\n",
       "        (5): Parameter containing: [torch.float32 of size 64]\n",
       "        (6): Parameter containing: [torch.float32 of size 64]\n",
       "        (7): Parameter containing: [torch.float32 of size 64]\n",
       "        (8): Parameter containing: [torch.float32 of size 64x64x3x3]\n",
       "        (9): Parameter containing: [torch.float32 of size 64]\n",
       "        (10): Parameter containing: [torch.float32 of size 64]\n",
       "        (11): Parameter containing: [torch.float32 of size 64]\n",
       "        (12): Parameter containing: [torch.float32 of size 64x64x2x2]\n",
       "        (13): Parameter containing: [torch.float32 of size 64]\n",
       "        (14): Parameter containing: [torch.float32 of size 64]\n",
       "        (15): Parameter containing: [torch.float32 of size 64]\n",
       "        (16): Parameter containing: [torch.float32 of size 5x64]\n",
       "        (17): Parameter containing: [torch.float32 of size 5]\n",
       "    )\n",
       "    (vars_bn): ParameterList(\n",
       "        (0): Parameter containing: [torch.float32 of size 64]\n",
       "        (1): Parameter containing: [torch.float32 of size 64]\n",
       "        (2): Parameter containing: [torch.float32 of size 64]\n",
       "        (3): Parameter containing: [torch.float32 of size 64]\n",
       "        (4): Parameter containing: [torch.float32 of size 64]\n",
       "        (5): Parameter containing: [torch.float32 of size 64]\n",
       "        (6): Parameter containing: [torch.float32 of size 64]\n",
       "        (7): Parameter containing: [torch.float32 of size 64]\n",
       "    )\n",
       "  )\n",
       ")"
      ]
     },
     "execution_count": 60,
     "metadata": {},
     "output_type": "execute_result"
    }
   ],
   "source": [
    "maml.finetunning("
   ]
  },
  {
   "cell_type": "code",
   "execution_count": null,
   "id": "6bc4db95-de40-4063-9b27-13ca68e38030",
   "metadata": {},
   "outputs": [],
   "source": []
  }
 ],
 "metadata": {
  "kernelspec": {
   "display_name": "Python 3 (ipykernel)",
   "language": "python",
   "name": "python3"
  },
  "language_info": {
   "codemirror_mode": {
    "name": "ipython",
    "version": 3
   },
   "file_extension": ".py",
   "mimetype": "text/x-python",
   "name": "python",
   "nbconvert_exporter": "python",
   "pygments_lexer": "ipython3",
   "version": "3.10.6"
  }
 },
 "nbformat": 4,
 "nbformat_minor": 5
}
